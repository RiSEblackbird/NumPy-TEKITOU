{
 "cells": [
  {
   "cell_type": "code",
   "execution_count": 2,
   "metadata": {},
   "outputs": [],
   "source": [
    "# Numpyのインポート\n",
    "import numpy as np"
   ]
  },
  {
   "cell_type": "code",
   "execution_count": 11,
   "metadata": {},
   "outputs": [
    {
     "name": "stdout",
     "output_type": "stream",
     "text": [
      "[[[ 0  1  2]\n",
      "  [ 3  4  5]\n",
      "  [ 6  7  8]]\n",
      "\n",
      " [[ 9 10 11]\n",
      "  [12 13 14]\n",
      "  [15 16 17]]\n",
      "\n",
      " [[18 19 20]\n",
      "  [21 22 23]\n",
      "  [24 25 26]]]\n"
     ]
    }
   ],
   "source": [
    "# 3階のテンソルの作成\n",
    "A = np.array([[[0, 1, 2], [3, 4, 5], [6, 7, 8]],\n",
    "             [[9, 10, 11], [12, 13, 14], [15, 16, 17]],\n",
    "             [[18, 19, 20], [21, 22, 23], [24, 25, 26]]])\n",
    "print(A)"
   ]
  },
  {
   "cell_type": "code",
   "execution_count": 12,
   "metadata": {},
   "outputs": [
    {
     "name": "stdout",
     "output_type": "stream",
     "text": [
      "[[[[ 0  1  2]]\n",
      "\n",
      "  [[ 3  4  5]]\n",
      "\n",
      "  [[ 6  7  8]]]\n",
      "\n",
      "\n",
      " [[[ 9 10 11]]\n",
      "\n",
      "  [[12 13 14]]\n",
      "\n",
      "  [[15 16 17]]]\n",
      "\n",
      "\n",
      " [[[18 19 20]]\n",
      "\n",
      "  [[21 22 23]]\n",
      "\n",
      "  [[24 25 26]]]]\n"
     ]
    }
   ],
   "source": [
    "# 4階のテンソルへの変換\n",
    "B = A.reshape(3, 3, 1, 3)\n",
    "print(B)"
   ]
  },
  {
   "cell_type": "markdown",
   "metadata": {},
   "source": [
    "### transposeメソッド"
   ]
  },
  {
   "cell_type": "code",
   "execution_count": 13,
   "metadata": {},
   "outputs": [
    {
     "name": "stdout",
     "output_type": "stream",
     "text": [
      "[[[ 0  3  6]\n",
      "  [ 1  4  7]\n",
      "  [ 2  5  8]]\n",
      "\n",
      " [[ 9 12 15]\n",
      "  [10 13 16]\n",
      "  [11 14 17]]\n",
      "\n",
      " [[18 21 24]\n",
      "  [19 22 25]\n",
      "  [20 23 26]]]\n"
     ]
    }
   ],
   "source": [
    "# 軸の入れ替え\n",
    "C = A.transpose(0, 2, 1)\n",
    "print(C)"
   ]
  },
  {
   "cell_type": "markdown",
   "metadata": {},
   "source": [
    "## 行列の計算"
   ]
  },
  {
   "cell_type": "code",
   "execution_count": 15,
   "metadata": {},
   "outputs": [
    {
     "name": "stdout",
     "output_type": "stream",
     "text": [
      "[[[  0.    4.3   8.6]\n",
      "  [ 12.9  17.2  21.5]\n",
      "  [ 25.8  30.1  34.4]]\n",
      "\n",
      " [[ 38.7  43.   47.3]\n",
      "  [ 51.6  55.9  60.2]\n",
      "  [ 64.5  68.8  73.1]]\n",
      "\n",
      " [[ 77.4  81.7  86. ]\n",
      "  [ 90.3  94.6  98.9]\n",
      "  [103.2 107.5 111.8]]]\n"
     ]
    }
   ],
   "source": [
    "# 行列とスカラーの積\n",
    "a = 4.3\n",
    "D = a * A\n",
    "print(D)"
   ]
  },
  {
   "cell_type": "code",
   "execution_count": 16,
   "metadata": {},
   "outputs": [
    {
     "name": "stdout",
     "output_type": "stream",
     "text": [
      "[[  0  10  22]\n",
      " [ 36  52  70]\n",
      " [ 90 112 136]]\n"
     ]
    }
   ],
   "source": [
    "# 要素ごとの積\n",
    "E = np.array([[0, 1, 2],\n",
    "              [3, 4, 5],\n",
    "              [6, 7, 8]])\n",
    "F = np.array([[9, 10, 11],\n",
    "              [12, 13, 14],\n",
    "              [15, 16, 17]])\n",
    "G = E * F\n",
    "print(G)"
   ]
  },
  {
   "cell_type": "markdown",
   "metadata": {},
   "source": [
    "### 行列積"
   ]
  },
  {
   "cell_type": "code",
   "execution_count": 17,
   "metadata": {},
   "outputs": [
    {
     "name": "stdout",
     "output_type": "stream",
     "text": [
      "[[ 42  45  48]\n",
      " [150 162 174]\n",
      " [258 279 300]]\n"
     ]
    }
   ],
   "source": [
    "H = np.dot(E, F)\n",
    "print(H)"
   ]
  },
  {
   "cell_type": "markdown",
   "metadata": {},
   "source": [
    "### 行列の転置"
   ]
  },
  {
   "cell_type": "code",
   "execution_count": 19,
   "metadata": {},
   "outputs": [
    {
     "name": "stdout",
     "output_type": "stream",
     "text": [
      "[[0 1 2]\n",
      " [3 4 5]]\n",
      "[[0 3]\n",
      " [1 4]\n",
      " [2 5]]\n"
     ]
    }
   ],
   "source": [
    "J = np.array([[0, 1, 2],\n",
    "              [3, 4, 5]])\n",
    "print(J)\n",
    "print(J.T)"
   ]
  },
  {
   "cell_type": "code",
   "execution_count": null,
   "metadata": {},
   "outputs": [],
   "source": []
  }
 ],
 "metadata": {
  "kernelspec": {
   "display_name": "Python 3",
   "language": "python",
   "name": "python3"
  },
  "language_info": {
   "codemirror_mode": {
    "name": "ipython",
    "version": 3
   },
   "file_extension": ".py",
   "mimetype": "text/x-python",
   "name": "python",
   "nbconvert_exporter": "python",
   "pygments_lexer": "ipython3",
   "version": "3.6.5"
  }
 },
 "nbformat": 4,
 "nbformat_minor": 2
}
