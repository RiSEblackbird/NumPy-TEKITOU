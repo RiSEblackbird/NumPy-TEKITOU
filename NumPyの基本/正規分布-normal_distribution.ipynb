{
 "cells": [
  {
   "cell_type": "code",
   "execution_count": 3,
   "metadata": {},
   "outputs": [],
   "source": [
    "import numpy as np\n",
    "import matplotlib.pyplot as plt"
   ]
  },
  {
   "cell_type": "code",
   "execution_count": 2,
   "metadata": {},
   "outputs": [
    {
     "name": "stdout",
     "output_type": "stream",
     "text": [
      "平均値： 3.0\n",
      "標準偏差： 1.4142135623730951\n"
     ]
    }
   ],
   "source": [
    "a = np.array([1, 2, 3, 4, 5])\n",
    "print(\"平均値：\", np.average(a))\n",
    "print(\"標準偏差：\", np.std(a))"
   ]
  },
  {
   "cell_type": "code",
   "execution_count": 9,
   "metadata": {},
   "outputs": [
    {
     "data": {
      "image/png": "[encoded data removed]",
      "text/plain": [
       "<Figure size 432x288 with 1 Axes>"
      ]
     },
     "metadata": {
      "needs_background": "light"
     },
     "output_type": "display_data"
    },
    {
     "name": "stdout",
     "output_type": "stream",
     "text": [
      "平均値： 49.98197599497862\n",
      "標準偏差： 10.014908410895579\n"
     ]
    }
   ],
   "source": [
    "# 正規分布の生成 ( 平均50, 標準偏差10, 50000個 )\n",
    "x = np.random.normal(50, 10, 50000)\n",
    "\n",
    "# ヒストグラムの表示 (bins ; 表示する棒の数)\n",
    "plt.hist(x, bins=1000)\n",
    "plt.show()\n",
    "\n",
    "print(\"平均値：\", np.average(x))\n",
    "print(\"標準偏差：\", np.std(x))"
   ]
  },
  {
   "cell_type": "code",
   "execution_count": null,
   "metadata": {},
   "outputs": [],
   "source": []
  }
 ],
 "metadata": {
  "kernelspec": {
   "display_name": "Python 3",
   "language": "python",
   "name": "python3"
  },
  "language_info": {
   "codemirror_mode": {
    "name": "ipython",
    "version": 3
   },
   "file_extension": ".py",
   "mimetype": "text/x-python",
   "name": "python",
   "nbconvert_exporter": "python",
   "pygments_lexer": "ipython3",
   "version": "3.6.5"
  }
 },
 "nbformat": 4,
 "nbformat_minor": 2
}
