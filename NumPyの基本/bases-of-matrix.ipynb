{
 "cells": [
  {
   "cell_type": "code",
   "execution_count": 2,
   "metadata": {},
   "outputs": [],
   "source": [
    "# Numpyのインポート\n",
    "import numpy as np"
   ]
  },
  {
   "cell_type": "code",
   "execution_count": 3,
   "metadata": {},
   "outputs": [
    {
     "name": "stdout",
     "output_type": "stream",
     "text": [
      "[[[ 0  1  2]\n",
      "  [ 3  4  5]\n",
      "  [ 6  7  8]]\n",
      "\n",
      " [[ 9 10 11]\n",
      "  [12 13 14]\n",
      "  [15 16 17]]\n",
      "\n",
      " [[18 19 20]\n",
      "  [21 22 23]\n",
      "  [24 25 26]]]\n"
     ]
    }
   ],
   "source": [
    "# 3階のテンソルの作成\n",
    "a = np.array([[[0, 1, 2], [3, 4, 5], [6, 7, 8]],\n",
    "             [[9, 10, 11], [12, 13, 14], [15, 16, 17]],\n",
    "             [[18, 19, 20], [21, 22, 23], [24, 25, 26]]])\n",
    "print(a)"
   ]
  },
  {
   "cell_type": "code",
   "execution_count": 7,
   "metadata": {},
   "outputs": [
    {
     "name": "stdout",
     "output_type": "stream",
     "text": [
      "[[[[ 0  1  2]]\n",
      "\n",
      "  [[ 3  4  5]]\n",
      "\n",
      "  [[ 6  7  8]]]\n",
      "\n",
      "\n",
      " [[[ 9 10 11]]\n",
      "\n",
      "  [[12 13 14]]\n",
      "\n",
      "  [[15 16 17]]]\n",
      "\n",
      "\n",
      " [[[18 19 20]]\n",
      "\n",
      "  [[21 22 23]]\n",
      "\n",
      "  [[24 25 26]]]]\n"
     ]
    }
   ],
   "source": [
    "# 4階のテンソルへの変換\n",
    "b = a.reshape(3, 3, 1, 3)\n",
    "print(b)"
   ]
  },
  {
   "cell_type": "markdown",
   "metadata": {},
   "source": [
    "### transposeメソッド"
   ]
  },
  {
   "cell_type": "code",
   "execution_count": 9,
   "metadata": {},
   "outputs": [
    {
     "name": "stdout",
     "output_type": "stream",
     "text": [
      "[[[ 0  3  6]\n",
      "  [ 1  4  7]\n",
      "  [ 2  5  8]]\n",
      "\n",
      " [[ 9 12 15]\n",
      "  [10 13 16]\n",
      "  [11 14 17]]\n",
      "\n",
      " [[18 21 24]\n",
      "  [19 22 25]\n",
      "  [20 23 26]]]\n"
     ]
    }
   ],
   "source": [
    "# 軸の入れ替え\n",
    "c = a.transpose(0, 2, 1)\n",
    "print(c)"
   ]
  },
  {
   "cell_type": "code",
   "execution_count": null,
   "metadata": {},
   "outputs": [],
   "source": []
  }
 ],
 "metadata": {
  "kernelspec": {
   "display_name": "Python 3",
   "language": "python",
   "name": "python3"
  },
  "language_info": {
   "codemirror_mode": {
    "name": "ipython",
    "version": 3
   },
   "file_extension": ".py",
   "mimetype": "text/x-python",
   "name": "python",
   "nbconvert_exporter": "python",
   "pygments_lexer": "ipython3",
   "version": "3.6.5"
  }
 },
 "nbformat": 4,
 "nbformat_minor": 2
}
